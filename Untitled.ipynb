{
 "cells": [
  {
   "cell_type": "code",
   "execution_count": 5,
   "id": "4a9e3c54",
   "metadata": {},
   "outputs": [],
   "source": [
    "import numpy as np\n",
    "import matplotlib.pyplot as plt"
   ]
  },
  {
   "cell_type": "code",
   "execution_count": 3,
   "id": "fc6d9ad8",
   "metadata": {},
   "outputs": [
    {
     "data": {
      "text/plain": [
       "-69.95447321335993"
      ]
     },
     "execution_count": 3,
     "metadata": {},
     "output_type": "execute_result"
    }
   ],
   "source": [
    "61*np.log10((1*5 +0.04*145 +0.45*7)/(1*150 + 0.04*15 + .45*100))"
   ]
  },
  {
   "cell_type": "code",
   "execution_count": 4,
   "id": "26cc3720",
   "metadata": {},
   "outputs": [
    {
     "data": {
      "text/plain": [
       "-50.61293722567578"
      ]
     },
     "execution_count": 4,
     "metadata": {},
     "output_type": "execute_result"
    }
   ],
   "source": [
    "61*np.log10((1*20 +0.04*145 +0.45*7)/(1*150 + 0.04*15 + .45*100))"
   ]
  },
  {
   "cell_type": "code",
   "execution_count": 36,
   "id": "198906d7",
   "metadata": {},
   "outputs": [
    {
     "data": {
      "image/png": "[encoded data removed]",
      "text/plain": [
       "<Figure size 640x480 with 1 Axes>"
      ]
     },
     "metadata": {},
     "output_type": "display_data"
    }
   ],
   "source": [
    "grades = [75,83,63,37,93,87,57,78,65,47]\n",
    "class_no_class = [1,1,0,1,1,1,0,1,1,0]\n",
    "\n",
    "for g,c in zip(grades, class_no_class):\n",
    "    if c == 0:\n",
    "        plt.scatter(c+0.125*np.random.randn(1)[0], g, c='tab:orange',s=150)\n",
    "    else:\n",
    "        plt.scatter(c+0.125*np.random.randn(1)[0], g, c='tab:blue',s=150)\n",
    "\n",
    "plt.xticks([0, 1], ['Online', 'in-Class'])    \n",
    "plt.xlim([-0.5,1.5])\n",
    "plt.ylim([0,100])\n",
    "plt.ylabel('Grades')\n",
    "\n",
    "plt.show()"
   ]
  },
  {
   "cell_type": "code",
   "execution_count": 21,
   "id": "b77eba83",
   "metadata": {},
   "outputs": [
    {
     "data": {
      "text/plain": [
       "0.36366078781441835"
      ]
     },
     "execution_count": 21,
     "metadata": {},
     "output_type": "execute_result"
    }
   ],
   "source": [
    "0.5*np.random.randn(1)[0]"
   ]
  },
  {
   "cell_type": "code",
   "execution_count": 16,
   "id": "65d051bb",
   "metadata": {},
   "outputs": [
    {
     "data": {
      "text/plain": [
       "0.5"
      ]
     },
     "execution_count": 16,
     "metadata": {},
     "output_type": "execute_result"
    }
   ],
   "source": [
    "np.sqrt(0.25)"
   ]
  },
  {
   "cell_type": "code",
   "execution_count": 50,
   "id": "02448c89",
   "metadata": {},
   "outputs": [
    {
     "name": "stdout",
     "output_type": "stream",
     "text": [
      "[2, 4, 8, 7, 6, 5, 1, 3]\n"
     ]
    }
   ],
   "source": [
    "# Group 1:\n",
    "#     Genna Felder \n",
    "#     Samantha Sequira\n",
    "    \n",
    "# Group 2:\n",
    "#     Holly Grant\n",
    "#     Anna Thomas\n",
    "#     Aveisha Maharaj\n",
    "    \n",
    "# Group 3:\n",
    "#     Osamah Khaled S Aljadhai\n",
    "#     Zyad Yahya A Alyazidi\n",
    "#     Mohammed Fahad M Aba Alkhayl\n",
    "    \n",
    "# Group 4:\n",
    "#     Benjamin Diaz\n",
    "#     Colby Williams\n",
    "#     Rachel Lee\n",
    "    \n",
    "# Group 5:\n",
    "#     Shay Kaden\n",
    "#     John Panchookian\n",
    "    \n",
    "# Group 6:\n",
    "#     Catrina McCoy\n",
    "#     Andrew Junkin\n",
    "    \n",
    "# Group 7:\n",
    "#     Catherine Caicedo \n",
    "#     Kayla Mastin\n",
    "    \n",
    "# Group 8:\n",
    "#     Hannah Schwalm-Radak\n",
    "    \n",
    "\n",
    "groups_number = list(np.arange(1,9))\n",
    "order_groups = []\n",
    "for n in range(8):\n",
    "    selected = np.random.choice(groups_number)\n",
    "    groups_number.remove(selected)\n",
    "    order_groups.append(selected)\n",
    "    \n",
    "print(order_groups)"
   ]
  },
  {
   "cell_type": "code",
   "execution_count": 48,
   "id": "fb18d197",
   "metadata": {},
   "outputs": [
    {
     "data": {
      "text/plain": [
       "[3, 7, 4, 2, 6, 5, 1, 8]"
      ]
     },
     "execution_count": 48,
     "metadata": {},
     "output_type": "execute_result"
    }
   ],
   "source": [
    "order_groups"
   ]
  },
  {
   "cell_type": "code",
   "execution_count": null,
   "id": "0e341e88",
   "metadata": {},
   "outputs": [],
   "source": []
  }
 ],
 "metadata": {
  "kernelspec": {
   "display_name": "Python 3",
   "language": "python",
   "name": "python3"
  },
  "language_info": {
   "codemirror_mode": {
    "name": "ipython",
    "version": 3
   },
   "file_extension": ".py",
   "mimetype": "text/x-python",
   "name": "python",
   "nbconvert_exporter": "python",
   "pygments_lexer": "ipython3",
   "version": "3.8.3"
  }
 },
 "nbformat": 4,
 "nbformat_minor": 5
}
