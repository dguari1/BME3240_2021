{
 "cells": [
  {
   "cell_type": "code",
   "execution_count": 13,
   "id": "64988a67",
   "metadata": {},
   "outputs": [],
   "source": [
    "Students = {\n",
    "    \n",
    "    'lloyd' : {\n",
    "              \"name\": \"Lloyd\",\n",
    "              \"homework\": [90.0,97.0,75.0,92.0],\n",
    "              \"quizzes\": [88.0,40.0,94.0],\n",
    "              \"tests\": [75.0,90.0]\n",
    "                },\n",
    "    'alice' : {\n",
    "              \"name\": \"Alice\",\n",
    "              \"homework\": [100.0, 92.0, 98.0, 100.0],\n",
    "              \"quizzes\": [82.0, 83.0, 91.0],\n",
    "              \"tests\": [89.0, 97.0]\n",
    "                },\n",
    "    'tyler' : {\n",
    "              \"name\": \"Tyler\",\n",
    "              \"homework\": [0.0, 87.0, 75.0, 22.0],\n",
    "              \"quizzes\": [0.0, 75.0, 78.0],\n",
    "              \"tests\": [100.0, 100.0]\n",
    "            },\n",
    "    'mike' : {\n",
    "          \"name\": \"Mike\",\n",
    "          \"homework\": [30.0, 22.0, 45.0],\n",
    "          \"quizzes\": [0.0, 85.0, 100.0],\n",
    "          \"tests\": [25.0, 30.0]\n",
    "        },\n",
    "    'james' : {\n",
    "          \"name\": \"James\",\n",
    "          \"homework\": [96.0, 98.0, 95.0, 100],\n",
    "          \"quizzes\": [95.0, 85.0, 100.0],\n",
    "          \"tests\": [100.0, 90.0]\n",
    "        },\n",
    "    \n",
    "    'ali' : {\n",
    "          \"name\": \"Ali\",\n",
    "          \"homework\": [96.0, 95.0, 95.0, 99.0],\n",
    "          \"quizzes\": [95.0, 0],\n",
    "          \"tests\": [99.0, 80.0]\n",
    "        },\n",
    "    'daniel' : {\n",
    "          \"name\": \"Daniel\",\n",
    "          \"homework\": [96.0, 95.0, 95.0, 99.0],\n",
    "          \"quizzes\": [95.0, 85.0, 0],\n",
    "          \"tests\": [99.0, 80.0]\n",
    "        },\n",
    "    'juan' : {\n",
    "          \"name\": \"Juan\",\n",
    "          \"homework\": [96.0, 95.0, 95.0, 99.0],\n",
    "          \"quizzes\": [100.0, 100.0, 100.0],\n",
    "          \"tests\": [100.0, 100.0,100.0]\n",
    "        },\n",
    "}"
   ]
  },
  {
   "cell_type": "markdown",
   "id": "84776ff5",
   "metadata": {},
   "source": [
    "Practice the use of Python ```list``` and ```dict``` and answer the following questions: \n",
    "\n",
    "    1) How many students are in the class?\n",
    "    2) How many students obtained at least one 100 in their homework?\n",
    "    3) How many students have less than 3 quizzes?\n",
    "    4) What student has a grade of 40 in their quizzes?\n",
    "    5) How many students have less than 3 homeworks?\n",
    "    6) One students has more than 2 tests. Identify the student and fix the error.\n",
    "    7) You can compute the average of a list of number using the following expression:\n",
    "    \n",
    "```python\n",
    "\n",
    "List = [1,2,3,4,5,6,7]\n",
    "average = sum(List)/len(List)\n",
    "```\n",
    "    \n",
    "    Using this expression, identify the students with the lowest and highets homework average \n",
    "    \n",
    "    \n",
    "    \n",
    "## Note\n",
    "- The first group to provide all correct answers will get an extra 30% in their assignment\n",
    "- The first group to provide all correct answers will get an extra 20% in their assignment\n",
    "- The first group to provide all correct answers will get an extra 10% in their assignment    \n",
    "    "
   ]
  },
  {
   "cell_type": "code",
   "execution_count": 12,
   "id": "1dd9c647",
   "metadata": {},
   "outputs": [
    {
     "ename": "NameError",
     "evalue": "name 'mean' is not defined",
     "output_type": "error",
     "traceback": [
      "\u001b[1;31m---------------------------------------------------------------------------\u001b[0m",
      "\u001b[1;31mNameError\u001b[0m                                 Traceback (most recent call last)",
      "\u001b[1;32m<ipython-input-12-ad9132041e80>\u001b[0m in \u001b[0;36m<module>\u001b[1;34m\u001b[0m\n\u001b[1;32m----> 1\u001b[1;33m \u001b[0mmean\u001b[0m\u001b[1;33m(\u001b[0m\u001b[1;33m[\u001b[0m\u001b[1;36m96.0\u001b[0m\u001b[1;33m,\u001b[0m \u001b[1;36m98.0\u001b[0m\u001b[1;33m,\u001b[0m \u001b[1;36m95.0\u001b[0m\u001b[1;33m,\u001b[0m \u001b[1;36m100\u001b[0m\u001b[1;33m]\u001b[0m\u001b[1;33m)\u001b[0m\u001b[1;33m\u001b[0m\u001b[1;33m\u001b[0m\u001b[0m\n\u001b[0m",
      "\u001b[1;31mNameError\u001b[0m: name 'mean' is not defined"
     ]
    }
   ],
   "source": [
    "\n"
   ]
  },
  {
   "cell_type": "code",
   "execution_count": 15,
   "id": "f0b0cace",
   "metadata": {},
   "outputs": [
    {
     "data": {
      "text/plain": [
       "22"
      ]
     },
     "execution_count": 15,
     "metadata": {},
     "output_type": "execute_result"
    }
   ],
   "source": [
    "sum([4,5,6,7])"
   ]
  },
  {
   "cell_type": "code",
   "execution_count": null,
   "id": "7cf491d3",
   "metadata": {},
   "outputs": [],
   "source": []
  }
 ],
 "metadata": {
  "kernelspec": {
   "display_name": "Python 3",
   "language": "python",
   "name": "python3"
  },
  "language_info": {
   "codemirror_mode": {
    "name": "ipython",
    "version": 3
   },
   "file_extension": ".py",
   "mimetype": "text/x-python",
   "name": "python",
   "nbconvert_exporter": "python",
   "pygments_lexer": "ipython3",
   "version": "3.8.3"
  }
 },
 "nbformat": 4,
 "nbformat_minor": 5
}
