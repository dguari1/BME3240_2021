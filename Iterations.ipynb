{
 "cells": [
  {
   "cell_type": "markdown",
   "id": "49fc4532",
   "metadata": {},
   "source": [
    "# Iterations\n",
    "\n",
    "Many tasks require doing the same basic actions over and over again—iterating—in slightly different contexts. Since repetitive tasks appear so frequently, it is only natural that programming languages like Python would have direct methods of performing iteration.\n",
    "\n",
    "Next, we will learn the basic ways to program iterative tasks. \n",
    "\n",
    "# For Loops\n",
    "\n",
    "A for-loop is a set of instructions that is repeated, or iterated, for every value in a sequence. Sometimes for-loops are referred to as definite loops because they have a predefined begin and end as bounded by the sequence.\n",
    "\n",
    "A for-loop is build as follows :\n",
    "```python\n",
    "\n",
    "for looping variable in sequence:\n",
    "    code block\n",
    "\n",
    "```"
   ]
  },
  {
   "cell_type": "code",
   "execution_count": 34,
   "id": "3e72d713",
   "metadata": {},
   "outputs": [
    {
     "data": {
      "text/plain": [
       "range(2, 4)"
      ]
     },
     "execution_count": 34,
     "metadata": {},
     "output_type": "execute_result"
    }
   ],
   "source": [
    "range(2,8,2)"
   ]
  },
  {
   "cell_type": "code",
   "execution_count": 42,
   "id": "15b69829",
   "metadata": {},
   "outputs": [
    {
     "name": "stdout",
     "output_type": "stream",
     "text": [
      "0\n",
      "1\n",
      "2\n",
      "3\n",
      "4\n",
      "5\n"
     ]
    }
   ],
   "source": [
    "\n",
    "for n in range(0,5):\n",
    "    print(n)\n",
    "    c=n+1\n",
    "    \n",
    "print(c)"
   ]
  },
  {
   "cell_type": "markdown",
   "id": "c0c71024",
   "metadata": {},
   "source": [
    "WHAT IS HAPPENING?\n",
    "\n",
    "First, the function range(1, 4) is generating a list of numbers beginning at 1 and ending at 3 (similar to ```np.arange()```.\n",
    "\n",
    "\n",
    "1. The variable n is assigned the value 1.\n",
    "\n",
    "2. The variable n is assigned the value 2.\n",
    "\n",
    "3. The variable i is assigned the value 3.\n",
    "\n",
    "With no more values to assign in the list, the for-loop is terminated with n = 3."
   ]
  },
  {
   "cell_type": "code",
   "execution_count": 5,
   "id": "34adc08a",
   "metadata": {},
   "outputs": [
    {
     "name": "stdout",
     "output_type": "stream",
     "text": [
      "apple\n",
      "apple\n",
      "apple\n",
      "apple\n",
      "apple\n",
      "apple\n",
      "apple\n",
      "apple\n",
      "apple\n",
      "apple\n"
     ]
    }
   ],
   "source": [
    "#example, print the word apple ten times\n",
    "for i in range(10):\n",
    "    print('apple')"
   ]
  },
  {
   "cell_type": "code",
   "execution_count": 45,
   "id": "89001a74",
   "metadata": {},
   "outputs": [
    {
     "name": "stdout",
     "output_type": "stream",
     "text": [
      "a\n",
      "p\n",
      "p\n",
      "l\n",
      "e\n"
     ]
    }
   ],
   "source": [
    "#example, print the characters in the word apple\n",
    "word = 'apple'\n",
    "for i in range(len(word)):\n",
    "    print(word[i])"
   ]
  },
  {
   "cell_type": "code",
   "execution_count": 46,
   "id": "7cdb196c",
   "metadata": {},
   "outputs": [
    {
     "name": "stdout",
     "output_type": "stream",
     "text": [
      "a\n",
      "p\n",
      "p\n",
      "l\n",
      "e\n"
     ]
    }
   ],
   "source": [
    "#why this works?\n",
    "for i in 'apple':\n",
    "    print(i)"
   ]
  },
  {
   "cell_type": "code",
   "execution_count": 53,
   "id": "498b7e3a",
   "metadata": {},
   "outputs": [
    {
     "name": "stdout",
     "output_type": "stream",
     "text": [
      "12\n"
     ]
    }
   ],
   "source": [
    "#sum the numbers in a list\n",
    "s = 0\n",
    "a = [2, 3, 1, 3, 3]\n",
    "for i in a:\n",
    "    s += i # note this is equivalent to s = s + i\n",
    "\n",
    "print(s)"
   ]
  },
  {
   "cell_type": "code",
   "execution_count": 54,
   "id": "0d11b7c3",
   "metadata": {},
   "outputs": [
    {
     "name": "stdout",
     "output_type": "stream",
     "text": [
      "12\n"
     ]
    }
   ],
   "source": [
    "#sum the numbers in a list using index\n",
    "s = 0\n",
    "a = [2, 3, 1, 3, 3]\n",
    "for i in range(0, len(a)):\n",
    "    s += a[i]\n",
    "    \n",
    "print(s)"
   ]
  },
  {
   "cell_type": "code",
   "execution_count": 2,
   "id": "9098fb33",
   "metadata": {},
   "outputs": [
    {
     "name": "stdout",
     "output_type": "stream",
     "text": [
      "9\n"
     ]
    }
   ],
   "source": [
    "#sum the numbers in a list if they satisfy a condition \n",
    "s = 0\n",
    "a = [2, 3, 1, 3, 3]\n",
    "for i in a:\n",
    "    \n",
    "    if i>= 3:\n",
    "        s += i # note this is equivalent to s = s + i\n",
    "    \n",
    "print(s)"
   ]
  },
  {
   "cell_type": "code",
   "execution_count": 5,
   "id": "09b314dc",
   "metadata": {},
   "outputs": [
    {
     "name": "stdout",
     "output_type": "stream",
     "text": [
      "6\n"
     ]
    }
   ],
   "source": [
    "#sum every other number in a list using index\n",
    "s = 0\n",
    "a = [2, 3, 1, 3, 3]\n",
    "for i in range(0, len(a), 2):\n",
    "    s += a[i]\n",
    "    \n",
    "print(s)"
   ]
  },
  {
   "cell_type": "markdown",
   "id": "bab3761c",
   "metadata": {},
   "source": [
    "Note that, we could assign two different looping variables at the same time. For example, if we have two lists with same length, and we want to loop through them, we could do it using the zip function:\n",
    "\n"
   ]
  },
  {
   "cell_type": "code",
   "execution_count": 6,
   "id": "55605444",
   "metadata": {},
   "outputs": [
    {
     "name": "stdout",
     "output_type": "stream",
     "text": [
      "One 1\n",
      "Two 2\n",
      "Three 3\n"
     ]
    }
   ],
   "source": [
    "a = [\"One\", \"Two\", \"Three\"]\n",
    "b = [1, 2, 3]\n",
    "\n",
    "for i, j in zip(a, b):\n",
    "    print(i, j)"
   ]
  },
  {
   "cell_type": "code",
   "execution_count": 55,
   "id": "2363e2e3",
   "metadata": {},
   "outputs": [
    {
     "name": "stdout",
     "output_type": "stream",
     "text": [
      "One 1\n",
      "Two 2\n"
     ]
    }
   ],
   "source": [
    "#if the lists have different lenghts ??\n",
    "a = [\"One\", \"Two\", \"Three\"]\n",
    "b = [1, 2]\n",
    "\n",
    "for i, j in zip(a, b):\n",
    "    print(i, j)"
   ]
  },
  {
   "cell_type": "markdown",
   "id": "2278e359",
   "metadata": {},
   "source": [
    "Python allows you to iterate over the keys of a dictionary "
   ]
  },
  {
   "cell_type": "code",
   "execution_count": 20,
   "id": "7143edd3",
   "metadata": {},
   "outputs": [
    {
     "name": "stdout",
     "output_type": "stream",
     "text": [
      "One 1\n",
      "Two 2\n",
      "Three 3\n"
     ]
    }
   ],
   "source": [
    "dict_a = {\"One\":1, \"Two\":2, \"Three\":3}\n",
    "\n",
    "for key in dict_a.keys():\n",
    "    print(key, dict_a[key])"
   ]
  },
  {
   "cell_type": "code",
   "execution_count": 21,
   "id": "8cabe416",
   "metadata": {},
   "outputs": [
    {
     "name": "stdout",
     "output_type": "stream",
     "text": [
      "One 1\n",
      "Two 2\n",
      "Three 3\n"
     ]
    }
   ],
   "source": [
    "for key, value in dict_a.items():\n",
    "    print(key, value)"
   ]
  },
  {
   "cell_type": "markdown",
   "id": "4ea34eb5",
   "metadata": {},
   "source": [
    "### Mini Challenge 1 \n",
    "\n",
    "Write a function that takes a string and validates if at least one of the characters is a number. You can use the  ```.isdigit()``` method of the string to check if the character is a digit.\n",
    "\n",
    "Example: \n",
    "```python\n",
    "my_function('1hola2') -> True \n",
    "```\n",
    "\n",
    "### Mini Challenge 2\n",
    "\n",
    "Write a function that takes a string and returns the sum of all numbers in the string. You can use the ```.isdigit()``` method of the string to check if the character is a digit.\n",
    "\n",
    "Example: \n",
    "```python\n",
    "my_function('1hola2') -> 3\n",
    "```\n",
    "\n",
    "### Mini Challenge 3\n",
    "\n",
    "Write a function that takes a string and removes the numbers from the string. You can use the ```.isdigit()``` method of the string to check if the character is a digit.\n",
    "\n",
    "\n",
    "Example: \n",
    "```python\n",
    "my_function('1hola2') -> 'hola'\n",
    "```"
   ]
  },
  {
   "cell_type": "markdown",
   "id": "5e48ec8c",
   "metadata": {},
   "source": [
    "There are two important keyword to manipulate loops \n",
    "\n",
    "```python\n",
    "break \n",
    "```\n",
    "\n",
    "```break``` will exit the for-loop.\n",
    "\n",
    "```python\n",
    "continue\n",
    "```\n",
    "\n",
    "```continue``` will skip one iteration "
   ]
  },
  {
   "cell_type": "code",
   "execution_count": 3,
   "id": "b77f182a",
   "metadata": {},
   "outputs": [
    {
     "name": "stdout",
     "output_type": "stream",
     "text": [
      "False\n",
      "True\n"
     ]
    }
   ],
   "source": [
    "def my_function(input_str):\n",
    "    \"\"\"\n",
    "    Function that identifies if a string has at least one number\n",
    "    \"\"\"\n",
    "    assert type(input_str) == str, \"The input must be a string\"\n",
    "    \n",
    "    for c in input_str:\n",
    "        if c.isdigit():\n",
    "            return True \n",
    "        \n",
    "    return False\n",
    "\n",
    "print(my_function('hola')) \n",
    "print(my_function('1hola2'))"
   ]
  },
  {
   "cell_type": "code",
   "execution_count": 6,
   "id": "7ce069ab",
   "metadata": {},
   "outputs": [
    {
     "name": "stdout",
     "output_type": "stream",
     "text": [
      "0\n",
      "3\n"
     ]
    }
   ],
   "source": [
    "def my_function(input_str):\n",
    "    \"\"\"\n",
    "    Function that sums the numbers in a string\n",
    "    \"\"\"\n",
    "    assert type(input_str) == str, \"The input must be a string\"\n",
    "    \n",
    "    s = 0 \n",
    "    \n",
    "    for c in input_str:\n",
    "        if c.isdigit():\n",
    "            \n",
    "            s += int(c)\n",
    "            \n",
    "            \n",
    "    return s\n",
    "\n",
    "print(my_function('hola')) \n",
    "print(my_function('1hola2'))"
   ]
  },
  {
   "cell_type": "code",
   "execution_count": 8,
   "id": "80bada63",
   "metadata": {},
   "outputs": [
    {
     "name": "stdout",
     "output_type": "stream",
     "text": [
      "hola\n",
      "hola\n"
     ]
    }
   ],
   "source": [
    "def my_function(input_str):\n",
    "    \"\"\"\n",
    "    Function that removes numbers from string\n",
    "    \"\"\"\n",
    "    assert type(input_str) == str, \"The input must be a string\"\n",
    "    \n",
    "    s = ''\n",
    "    \n",
    "    for c in input_str:\n",
    "        if c.isdigit():\n",
    "            pass\n",
    "        else:\n",
    "            s += c            \n",
    "            \n",
    "    return s\n",
    "\n",
    "print(my_function('hola')) \n",
    "print(my_function('1hola2'))"
   ]
  },
  {
   "cell_type": "code",
   "execution_count": 14,
   "id": "b75ef9ad",
   "metadata": {},
   "outputs": [
    {
     "name": "stdout",
     "output_type": "stream",
     "text": [
      "0\n",
      "1\n",
      "2\n",
      "3\n"
     ]
    }
   ],
   "source": [
    "#example of break \n",
    "for i in range(5):\n",
    "    \n",
    "    print(i)\n",
    "    \n",
    "    if i==3:\n",
    "        break"
   ]
  },
  {
   "cell_type": "code",
   "execution_count": null,
   "id": "dadcffea",
   "metadata": {},
   "outputs": [],
   "source": [
    "#example of break \n",
    "\n",
    "# what is going to be printed??\n",
    "for i in range(5):\n",
    "    if i==3:\n",
    "        break\n",
    "    \n",
    "    print(i)"
   ]
  },
  {
   "cell_type": "code",
   "execution_count": 16,
   "id": "ae8255f6",
   "metadata": {},
   "outputs": [
    {
     "name": "stdout",
     "output_type": "stream",
     "text": [
      "0\n",
      "1\n",
      "2\n",
      "4\n"
     ]
    }
   ],
   "source": [
    "#example of continue\n",
    "for i in range(5):\n",
    "    \n",
    "    if i==3:\n",
    "        continue\n",
    "        \n",
    "    print(i)\n",
    "    "
   ]
  },
  {
   "cell_type": "code",
   "execution_count": null,
   "id": "bcd1908e",
   "metadata": {},
   "outputs": [],
   "source": [
    "#example of continue\n",
    "\n",
    "# what is going to be printed??\n",
    "for i in range(5):\n",
    "    \n",
    "    print(i)\n",
    "    \n",
    "    if i==3:\n",
    "        continue\n",
    "        \n",
    "    "
   ]
  },
  {
   "cell_type": "markdown",
   "id": "14338bce",
   "metadata": {},
   "source": [
    "## Nested loops \n",
    "Just like if-statements, for-loops can be nested."
   ]
  },
  {
   "cell_type": "code",
   "execution_count": 18,
   "id": "60c87cac",
   "metadata": {},
   "outputs": [
    {
     "name": "stdout",
     "output_type": "stream",
     "text": [
      "26\n"
     ]
    }
   ],
   "source": [
    "#sum the elements of a numpy array \n",
    "import numpy as np\n",
    "x = np.array([[5, 6], [7, 8]])\n",
    "n, m = x.shape\n",
    "s = 0\n",
    "for i in range(n):\n",
    "    for j in range(m):\n",
    "        s += x[i, j]\n",
    "        \n",
    "print(s)"
   ]
  },
  {
   "cell_type": "markdown",
   "id": "ae89c197",
   "metadata": {},
   "source": [
    "# While Loops\n",
    "\n",
    "A for-loop is a set of instructions that is repeated, or iterated, as long a condition is true \n",
    "\n",
    "A while-loop is build as follows :\n",
    "```python\n",
    "\n",
    "while <logical expression>:\n",
    "    # Code block to be repeated until logical statement is false\n",
    "    code block\n",
    "\n",
    "```"
   ]
  },
  {
   "cell_type": "code",
   "execution_count": 19,
   "id": "eba8e84e",
   "metadata": {},
   "outputs": [
    {
     "name": "stdout",
     "output_type": "stream",
     "text": [
      "10\n",
      "5.0\n",
      "2.5\n",
      "1.25\n"
     ]
    }
   ],
   "source": [
    "n = 10\n",
    "\n",
    "while n>1:\n",
    "    \n",
    "    print(n)\n",
    "    \n",
    "    n = n/2 "
   ]
  },
  {
   "cell_type": "markdown",
   "id": "3f5cbd14",
   "metadata": {},
   "source": [
    "While-loops are dangerous as it is easy to create *infinite loops*. "
   ]
  },
  {
   "cell_type": "code",
   "execution_count": null,
   "id": "f3cf514d",
   "metadata": {},
   "outputs": [],
   "source": [
    "n = 0\n",
    "while n > -1:\n",
    "    n += 1"
   ]
  },
  {
   "cell_type": "markdown",
   "id": "bdad7463",
   "metadata": {},
   "source": [
    "This iteration will never end, the only way to stop the iteration is to Stop, Restart or Shutdown the kernel. \n",
    "\n",
    "Note that by Stopping, Restarting, or Shutting down your kernel, you will loss all the information (variables) stored in the kernel. "
   ]
  },
  {
   "cell_type": "markdown",
   "id": "238f3d78",
   "metadata": {},
   "source": [
    "# List and dictionary comprehension*\n",
    "\n",
    "\n",
    "In Python, comprehensions are an important and popular to create lists or dictionaries. Comprehensions allow sequences to be created from other sequence with very compact syntax.\n",
    "\n",
    "*This is a somewhat advanced topic, I'm showing this to you so that you are aware that it exists \n"
   ]
  },
  {
   "cell_type": "code",
   "execution_count": 22,
   "id": "5ee98009",
   "metadata": {},
   "outputs": [
    {
     "name": "stdout",
     "output_type": "stream",
     "text": [
      "[0, 1, 4, 9, 16]\n"
     ]
    }
   ],
   "source": [
    "#Example, create a list by squaring the numbers from 0 to 4\n",
    "\n",
    "y = []\n",
    "for i in range(5):\n",
    "    y.append(i**2)\n",
    "print(y)\n"
   ]
  },
  {
   "cell_type": "code",
   "execution_count": 23,
   "id": "04da12c1",
   "metadata": {},
   "outputs": [
    {
     "name": "stdout",
     "output_type": "stream",
     "text": [
      "[0, 1, 4, 9, 16]\n"
     ]
    }
   ],
   "source": [
    "#the same result can be achieve using a compact sintaxins \n",
    "\n",
    "y = [i**2 for i in range(5)]\n",
    "\n",
    "print(y)"
   ]
  },
  {
   "cell_type": "code",
   "execution_count": 29,
   "id": "2f13758b",
   "metadata": {},
   "outputs": [
    {
     "name": "stdout",
     "output_type": "stream",
     "text": [
      "[1, 1, 1, 2, 1, 3, 1, 4]\n"
     ]
    }
   ],
   "source": [
    "y = []\n",
    "for i in range(1,5):\n",
    "    for j in range(2):\n",
    "        y.append(i**j)\n",
    "print(y)"
   ]
  },
  {
   "cell_type": "code",
   "execution_count": 30,
   "id": "bf9e507e",
   "metadata": {},
   "outputs": [
    {
     "name": "stdout",
     "output_type": "stream",
     "text": [
      "[1, 1, 1, 2, 1, 3, 1, 4]\n"
     ]
    }
   ],
   "source": [
    "y = [i**j for i in range(1,5) for j in range(2)]\n",
    "print(y)"
   ]
  },
  {
   "cell_type": "markdown",
   "id": "2d1cf5ff",
   "metadata": {},
   "source": [
    "Similarly, we can do dictionary comprehension"
   ]
  },
  {
   "cell_type": "code",
   "execution_count": 31,
   "id": "317624ad",
   "metadata": {},
   "outputs": [
    {
     "name": "stdout",
     "output_type": "stream",
     "text": [
      "{'a': 1, 'b': 8, 'c': 27}\n"
     ]
    }
   ],
   "source": [
    "x = {'a': 1, 'b': 2, 'c': 3}\n",
    "\n",
    "y = {key:v**3 for (key, v) in x.items()}\n",
    "print(y)"
   ]
  },
  {
   "cell_type": "code",
   "execution_count": null,
   "id": "4052168a",
   "metadata": {},
   "outputs": [],
   "source": []
  }
 ],
 "metadata": {
  "kernelspec": {
   "display_name": "Python 3",
   "language": "python",
   "name": "python3"
  },
  "language_info": {
   "codemirror_mode": {
    "name": "ipython",
    "version": 3
   },
   "file_extension": ".py",
   "mimetype": "text/x-python",
   "name": "python",
   "nbconvert_exporter": "python",
   "pygments_lexer": "ipython3",
   "version": "3.8.3"
  }
 },
 "nbformat": 4,
 "nbformat_minor": 5
}
