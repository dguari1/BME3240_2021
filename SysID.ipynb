{
 "cells": [
  {
   "attachments": {
    "5ce883ad-6762-4bd7-b19d-17f3398a6fe7.png": {
     "image/png": "[encoded data removed]"
    }
   },
   "cell_type": "markdown",
   "metadata": {},
   "source": [
    "## Systems identification \n",
    "\n",
    "Once you describe your system using differential equations, the next stage is to figure out the model parameters. Assume for example that you have a spring-damper-mass system (a physical system) whose behaviour can be described by\n",
    "\n",
    "\n",
    "![download.png](attachment:5ce883ad-6762-4bd7-b19d-17f3398a6fe7.png)\n",
    "\n",
    "$$\n",
    "m\\ddot{x} + b\\dot{x} + kx =  F(t),\n",
    "$$\n",
    "where $F(t)$ is the force applied to the mass.\n",
    "\n",
    "Demonstrate that the state equation for this system is \n",
    "$$\n",
    "\\frac{dS(t)}{dt} = \\left[\\begin{array}{cc}\n",
    "0 & 1 \\\\\n",
    "-\\frac{k}{m} & -\\frac{b}{m}\n",
    "\\end{array}\\right]S(t) + \\left[\\begin{array}{cc}\n",
    "0  \\\\\n",
    "\\frac{1}{m}\n",
    "\\end{array}\\right]F(t).\n",
    "$$\n",
    "and \n",
    "$$\n",
    "S(t) = \\left[\\begin{array}{c}\n",
    "x(t) \\\\\n",
    "\\dot{x}(t)\n",
    "\\end{array}\\right].\n",
    "$$\n",
    "\n",
    "\n",
    "To study this system, you should find a way to measure $m$, $b$ and $k$. \n",
    "\n",
    "This can be done in multiple ways:\n",
    "\n",
    "- Disassemble the system and mesure each component separately :(\n",
    "\n",
    "- Use systems identification (SysID) to estimate the models parameters from data :)\n",
    "\n",
    "\n",
    "How to use SysID :\n",
    "\n",
    "1) Organize your system's equations to fit the format requiered by leas squares\n",
    "\n",
    "2) Perform one experiment and record the requiered data\n",
    "\n",
    "3) Use numerical methods to compute the requiered derivatives \n",
    "\n",
    "4) Use least squares to determine the model parameters\n",
    "\n",
    "\n",
    "### Example\n",
    "\n",
    "\n",
    "For the mass-spring-damper system, we can re-write the equation as\n",
    "$$\n",
    "x(t) = -\\frac{b}{k}\\dot{x}(t) - \\frac{m}{k}\\ddot{x}(t) +  \\frac{1}{k}F(t),\n",
    "$$\n",
    "\n",
    "we can write this equation as\n",
    "$$\n",
    "\\left[\\begin{array}{c}\n",
    "x(0) \\\\\n",
    "x(1) \\\\\n",
    "\\vdots \\\\\n",
    "x(N)\n",
    "\\end{array}\\right] = \\left[\\begin{array}{ccc}\n",
    "\\dot{x}(0) & \\ddot{x}(0) & F(0) \\\\\n",
    "\\dot{x}(1) & \\ddot{x}(1) & F(1) \\\\\n",
    "\\vdots & \\vdots & \\vdots \\\\\n",
    "\\dot{x}(N) & \\ddot{x}(N) & F(N) \\\\\n",
    "\\end{array}\\right] \\left[\\begin{array}{cc}\n",
    "-b/k \\\\\n",
    "-m/k \\\\\n",
    "1/k\n",
    "\\end{array}\\right]\n",
    "$$\n",
    "\n",
    "This equation can be solved for $b/m$, $k/m$, and $k$ using least squares if we know $x(t)$, $\\dot{x}(t)$, $\\ddot{x}(t)$, and $F(t)$.  "
   ]
  },
  {
   "cell_type": "markdown",
   "metadata": {},
   "source": [
    "Assume that you have the system (with unknown $m$, $b$, and $k$) and perform one experiment. Assume for simplicity that $F(t)=0$. \n",
    "\n",
    "You recorded the mass position $x(t)$ with a sampling interval of $h=0.01$s. Now, what to use that information to figure out the model parameters.  "
   ]
  },
  {
   "cell_type": "code",
   "execution_count": 1,
   "metadata": {},
   "outputs": [
    {
     "data": {
      "image/png": "[encoded data removed]",
      "text/plain": [
       "<Figure size 360x360 with 1 Axes>"
      ]
     },
     "metadata": {},
     "output_type": "display_data"
    }
   ],
   "source": [
    "#load the data\n",
    "import numpy as np\n",
    "import matplotlib.pyplot as plt\n",
    "plt.style.use('seaborn')\n",
    "\n",
    "x = np.loadtxt('msd.txt')\n",
    "h=0.01\n",
    "fig, ax= plt.subplots(1,1,figsize = (5, 5), sharex=True)\n",
    "ax.plot(np.arange(0,len(x))*h, x)\n",
    "ax.set_xlabel('time')\n",
    "ax.set_ylabel('Position')\n",
    "ax.set_title('Mass Position')\n",
    "plt.show()"
   ]
  },
  {
   "cell_type": "code",
   "execution_count": 2,
   "metadata": {},
   "outputs": [],
   "source": [
    "#compure derivatives using numerical methods\n",
    "\n",
    "\n",
    "\n",
    "dx = np.gradient(x, h)\n",
    "ddx = np.gradient(dx, h)\n",
    "\n"
   ]
  },
  {
   "cell_type": "code",
   "execution_count": 3,
   "metadata": {},
   "outputs": [
    {
     "name": "stdout",
     "output_type": "stream",
     "text": [
      "The resulting coeficients are \n",
      " -b/k = -0.16017949545102858 \n",
      " -m/k = -0.20136337344389307\n"
     ]
    }
   ],
   "source": [
    "#solve the least squares problem \n",
    "from scipy.linalg import lstsq\n",
    "M= np.column_stack((dx,ddx))\n",
    "p, res, rnk, s = lstsq(M,x)\n",
    "print(f'The resulting coeficients are \\n -b/k = {p[0]} \\n -m/k = {p[1]}')"
   ]
  },
  {
   "cell_type": "markdown",
   "metadata": {},
   "source": [
    "The model that produced the recorded data had parameters\n",
    "- m = 1\n",
    "- b = 0.8\n",
    "- k = 5\n",
    "\n",
    "so that \n",
    "\n",
    "- -b/k = -0.16\n",
    "- -m/k = 0.2\n",
    "\n",
    "Compare these values with the result of the least squares procedure"
   ]
  },
  {
   "cell_type": "code",
   "execution_count": null,
   "metadata": {},
   "outputs": [],
   "source": []
  }
 ],
 "metadata": {
  "kernelspec": {
   "display_name": "Python 3",
   "language": "python",
   "name": "python3"
  },
  "language_info": {
   "codemirror_mode": {
    "name": "ipython",
    "version": 3
   },
   "file_extension": ".py",
   "mimetype": "text/x-python",
   "name": "python",
   "nbconvert_exporter": "python",
   "pygments_lexer": "ipython3",
   "version": "3.8.3"
  }
 },
 "nbformat": 4,
 "nbformat_minor": 5
}
