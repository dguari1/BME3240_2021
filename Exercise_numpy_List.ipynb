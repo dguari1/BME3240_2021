{
 "cells": [
  {
   "cell_type": "markdown",
   "metadata": {},
   "source": [
    "## Numpy - List Challenge \n",
    "\n",
    "Find the number of words in the following text with 5 or more letters. Remember that '.' is not a letter. \n",
    "\n",
    ">Bamboo walls are getting to be very popular.  They are strong, easy to use, and good looking. They\n",
    "provide a good background and can create a look of a Japanese garden. Bamboo is one of the largest\n",
    "and most rapidly growing grasses all over the world. Many varieties of bamboo are grown in\n",
    "Asia, although it is also grown in America.  Last year we bought a new home and have been working on\n",
    "the flower garden. In a few more days, we will be done with the bamboo wall in our garden. We have\n",
    "really enjoyed the project.\n",
    "\n",
    "\n",
    "Hints:\n",
    "Remember that string variables have several useful function, including \n",
    "- ```.replace()```\n",
    "- ```.split()```\n",
    "\n",
    "To apply an operation to all the elements in a list, you can use the special Python keyword ```map```. For example, the following code block will convert all the numbers in a list to strings \n",
    "```python \n",
    "list_numbers = [0,1,2,3,4]\n",
    "list_str = list(map(str,list_numbers))\n",
    "list_str\n",
    "\n",
    ">>['0', '1', '2', '3', '4']\n",
    "```\n",
    "\n",
    "Try your approach in a shorter text before attenting the large text provided. "
   ]
  },
  {
   "cell_type": "code",
   "execution_count": 30,
   "metadata": {},
   "outputs": [
    {
     "data": {
      "text/plain": [
       "['0', '1', '2', '3', '4']"
      ]
     },
     "execution_count": 30,
     "metadata": {},
     "output_type": "execute_result"
    }
   ],
   "source": [
    "list_numbers = [0,1,2,3,4]\n",
    "list_str = list(map(str,list_numbers))\n",
    "list_str"
   ]
  },
  {
   "cell_type": "code",
   "execution_count": null,
   "metadata": {},
   "outputs": [],
   "source": [
    "import numpy as np\n",
    "text = 'Bamboo walls are getting to be very popular.  They are strong, easy to use, and good looking. They provide a good background and can create a look of a Japanese garden. Bamboo is one of the largest and most rapidly growing grasses all over the world. Many varieties of bamboo are grown in Asia, although it is also grown in America.  Last year we bought a new home and have been working on the flower garden. In a few more days, we will be done with the bamboo wall in our garden. We have really enjoyed the project.'\n",
    "\n",
    "text = text.replace('.','')\n",
    "split_text = text.split(' ')\n",
    "length_words = np.array(list(map(len,split_text)))\n",
    "long_words = length_words[length_words>=5]\n",
    "len(long_words)"
   ]
  }
 ],
 "metadata": {
  "kernelspec": {
   "display_name": "Python 3",
   "language": "python",
   "name": "python3"
  },
  "language_info": {
   "codemirror_mode": {
    "name": "ipython",
    "version": 3
   },
   "file_extension": ".py",
   "mimetype": "text/x-python",
   "name": "python",
   "nbconvert_exporter": "python",
   "pygments_lexer": "ipython3",
   "version": "3.8.3"
  }
 },
 "nbformat": 4,
 "nbformat_minor": 4
}
