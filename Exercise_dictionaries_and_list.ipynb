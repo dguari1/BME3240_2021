{
 "cells": [
  {
   "cell_type": "code",
   "execution_count": 52,
   "id": "51437824",
   "metadata": {},
   "outputs": [],
   "source": [
    "Students = {\n",
    "    \n",
    "    'lloyd' : {\n",
    "              \"name\": \"Lloyd\",\n",
    "              \"homework\": [90.0,97.0,75.0,92.0],\n",
    "              \"quizzes\": [88.0,40.0,94.0],\n",
    "              \"tests\": [75.0,90.0]\n",
    "                },\n",
    "    'alice' : {\n",
    "              \"name\": \"Alice\",\n",
    "              \"homework\": [100.0, 92.0, 98.0, 100.0],\n",
    "              \"quizzes\": [82.0, 83.0, 91.0],\n",
    "              \"tests\": [89.0, 97.0]\n",
    "                },\n",
    "    'tyler' : {\n",
    "              \"name\": \"Tyler\",\n",
    "              \"homework\": [0.0, 87.0, 75.0, 22.0],\n",
    "              \"quizzes\": [0.0, 75.0, 78.0],\n",
    "              \"tests\": [100.0, 100.0]\n",
    "            },\n",
    "    'mike' : {\n",
    "          \"name\": \"Mike\",\n",
    "          \"homework\": [30.0, 22.0, 45.0],\n",
    "          \"quizzes\": [0.0, 85.0, 100.0],\n",
    "          \"tests\": [25.0, 30.0]\n",
    "        },\n",
    "    'james' : {\n",
    "          \"name\": \"James\",\n",
    "          \"homework\": [96.0, 98.0, 95.0, 100],\n",
    "          \"quizzes\": [95.0, 85.0, 100.0],\n",
    "          \"tests\": [100.0, 90.0]\n",
    "        },\n",
    "    \n",
    "    'ali' : {\n",
    "          \"name\": \"Ali\",\n",
    "          \"homework\": [96.0, 95.0, 99.0],\n",
    "          \"quizzes\": [95.0, 0],\n",
    "          \"tests\": [99.0, 80.0]\n",
    "        },\n",
    "    'daniel' : {\n",
    "          \"name\": \"Daniel\",\n",
    "          \"homework\": [96.0, 95.0, 95.0, 99.0],\n",
    "          \"quizzes\": [95.0, 85.0, 0],\n",
    "          \"tests\": [99.0, 80.0]\n",
    "        },\n",
    "    'juan' : {\n",
    "          \"name\": \"Juan\",\n",
    "          \"homework\": [96.0, 95.0, 95.0, 99.0],\n",
    "          \"quizzes\": [100.0, 100.0, 100.0],\n",
    "          \"tests\": [100.0, 100.0,100.0]\n",
    "        },\n",
    "}"
   ]
  },
  {
   "cell_type": "markdown",
   "id": "bbb9b320",
   "metadata": {},
   "source": [
    "Practice the use of Python ```list``` and ```dict``` and answer the following questions: \n",
    "\n",
    "    1) How many students are in the class?\n",
    "    2) How many students obtained at least one 100 in their homework?\n",
    "    3) How many students have less than 3 quizzes? What are their names? \n",
    "    4) What student has a grade of 40 in their quizzes?\n",
    "    5) How many students have less than 4 homeworks? What are their names?\n",
    "    6) One students has more than 2 tests. Identify the student and fix the error.\n",
    "    7) You can compute the average of a list of number using the following expression:\n",
    "    \n",
    "```python\n",
    "\n",
    "List = [1,2,3,4,5,6,7]\n",
    "average = sum(List)/len(List)\n",
    "```\n",
    "    \n",
    "    Using this expression, identify the students with the lowest and highets homework average \n",
    "    \n",
    "    \n",
    "    \n",
    "## Note\n",
    "- The first group to provide all correct answers will get an extra 30% in their assignment\n",
    "- The second group to provide all correct answers will get an extra 20% in their assignment\n",
    "- The third group to provide all correct answers will get an extra 10% in their assignment    \n",
    "    "
   ]
  },
  {
   "cell_type": "code",
   "execution_count": 53,
   "id": "3cd55cdf",
   "metadata": {},
   "outputs": [
    {
     "name": "stdout",
     "output_type": "stream",
     "text": [
      "There are 8 Students\n"
     ]
    }
   ],
   "source": [
    "#1) How many students are in the class?\n",
    "Students_list = list(Students)\n",
    "Number_of_students = len(Students_list)\n",
    "Number_of_students\n",
    "\n",
    "print(f'There are {Number_of_students} Students')"
   ]
  },
  {
   "cell_type": "code",
   "execution_count": 54,
   "id": "e4007479",
   "metadata": {},
   "outputs": [
    {
     "name": "stdout",
     "output_type": "stream",
     "text": [
      "There are 2 Students with 100 in their homeworks\n"
     ]
    }
   ],
   "source": [
    "#2) How many students obtained at least one 100 in their homework?\n",
    "\n",
    "#create a list of bools that say if a stundent has 100 in homeworks, then sum\n",
    "have_100 = sum([100 in Students[Students_list[0]]['homework'],\n",
    "   100 in Students[Students_list[1]]['homework'],\n",
    "   100 in Students[Students_list[2]]['homework'],\n",
    "   100 in Students[Students_list[3]]['homework'],\n",
    "   100 in Students[Students_list[4]]['homework'],\n",
    "   100 in Students[Students_list[5]]['homework'],\n",
    "   100 in Students[Students_list[6]]['homework'],\n",
    "   100 in Students[Students_list[7]]['homework']])\n",
    "\n",
    "print(f'There are {have_100} Students with 100 in their homeworks')"
   ]
  },
  {
   "cell_type": "code",
   "execution_count": 55,
   "id": "d9a4fb66",
   "metadata": {},
   "outputs": [
    {
     "name": "stdout",
     "output_type": "stream",
     "text": [
      "[3, 3, 3, 3, 3, 2, 3, 3]\n"
     ]
    }
   ],
   "source": [
    "#3) How many students have less than 3 quizzes? What are their names? \n",
    "\n",
    "#create a list with the length of the quizzes lists \n",
    "num_quizzes= [len(Students[Students_list[0]]['quizzes']),\n",
    "   len(Students[Students_list[1]]['quizzes']),\n",
    "   len(Students[Students_list[2]]['quizzes']),\n",
    "   len(Students[Students_list[3]]['quizzes']),\n",
    "   len(Students[Students_list[4]]['quizzes']),\n",
    "   len(Students[Students_list[5]]['quizzes']),\n",
    "   len(Students[Students_list[6]]['quizzes']),\n",
    "   len(Students[Students_list[7]]['quizzes'])]\n",
    "\n",
    "print(num_quizzes)\n"
   ]
  },
  {
   "cell_type": "code",
   "execution_count": 56,
   "id": "9b67da44",
   "metadata": {},
   "outputs": [
    {
     "name": "stdout",
     "output_type": "stream",
     "text": [
      "Ali\n"
     ]
    }
   ],
   "source": [
    "print(Students[Students_list[num_quizzes.index(2)]]['name'])"
   ]
  },
  {
   "cell_type": "code",
   "execution_count": 57,
   "id": "4db12e85",
   "metadata": {},
   "outputs": [
    {
     "data": {
      "text/plain": [
       "[True, False, False, False, False, False, False, False]"
      ]
     },
     "execution_count": 57,
     "metadata": {},
     "output_type": "execute_result"
    }
   ],
   "source": [
    "#5) What student has a grade of 40 in their quizzes?\n",
    "have_40 = [\n",
    "   40 in Students[Students_list[0]]['quizzes'],\n",
    "   40 in Students[Students_list[1]]['quizzes'],\n",
    "   40 in Students[Students_list[2]]['quizzes'],\n",
    "   40 in Students[Students_list[3]]['quizzes'],\n",
    "   40 in Students[Students_list[4]]['quizzes'],\n",
    "   40 in Students[Students_list[5]]['quizzes'],\n",
    "   40 in Students[Students_list[6]]['quizzes'],\n",
    "   40 in Students[Students_list[7]]['quizzes']]\n",
    "\n",
    "have_40"
   ]
  },
  {
   "cell_type": "code",
   "execution_count": 58,
   "id": "9450d301",
   "metadata": {},
   "outputs": [
    {
     "name": "stdout",
     "output_type": "stream",
     "text": [
      "Lloyd has 40 in their quizzes\n"
     ]
    }
   ],
   "source": [
    "print(f'{Students[Students_list[0]][\"name\"]} has 40 in their quizzes')"
   ]
  },
  {
   "cell_type": "code",
   "execution_count": 59,
   "id": "23c9606b",
   "metadata": {},
   "outputs": [
    {
     "name": "stdout",
     "output_type": "stream",
     "text": [
      "[4, 4, 4, 3, 4, 3, 4, 4]\n"
     ]
    }
   ],
   "source": [
    "#4) How many students have less than 3 homeworks?What are their names? \n",
    "#create a list with the length of the homeworks list \n",
    "\n",
    "num_homeworks= [len(Students[Students_list[0]]['homework']),\n",
    "   len(Students[Students_list[1]]['homework']),\n",
    "   len(Students[Students_list[2]]['homework']),\n",
    "   len(Students[Students_list[3]]['homework']),\n",
    "   len(Students[Students_list[4]]['homework']),\n",
    "   len(Students[Students_list[5]]['homework']),\n",
    "   len(Students[Students_list[6]]['homework']),\n",
    "   len(Students[Students_list[7]]['homework'])]\n",
    "\n",
    "print(num_homeworks)\n"
   ]
  },
  {
   "cell_type": "code",
   "execution_count": 69,
   "id": "34c1b6ad",
   "metadata": {},
   "outputs": [
    {
     "name": "stdout",
     "output_type": "stream",
     "text": [
      "Mike has less than 4 homeworks\n",
      "Ali has less than 4 homeworks\n"
     ]
    }
   ],
   "source": [
    "index_less_than_4 = []\n",
    "for idx, value in enumerate(num_homeworks):\n",
    "    if value<4:\n",
    "        print(f'{Students[Students_list[idx]][\"name\"]} has less than 4 homeworks')"
   ]
  },
  {
   "cell_type": "code",
   "execution_count": 71,
   "id": "70656256",
   "metadata": {},
   "outputs": [
    {
     "data": {
      "text/plain": [
       "[2, 2, 2, 2, 2, 2, 2, 3]"
      ]
     },
     "execution_count": 71,
     "metadata": {},
     "output_type": "execute_result"
    }
   ],
   "source": [
    "# 6) One students has more than 2 tests. Identify the student and fix the error.\n",
    "\n",
    "num_tests= [len(Students[Students_list[0]]['tests']),\n",
    "   len(Students[Students_list[1]]['tests']),\n",
    "   len(Students[Students_list[2]]['tests']),\n",
    "   len(Students[Students_list[3]]['tests']),\n",
    "   len(Students[Students_list[4]]['tests']),\n",
    "   len(Students[Students_list[5]]['tests']),\n",
    "   len(Students[Students_list[6]]['tests']),\n",
    "   len(Students[Students_list[7]]['tests'])]\n",
    "\n",
    "num_tests"
   ]
  },
  {
   "cell_type": "code",
   "execution_count": 73,
   "id": "5b1740d0",
   "metadata": {},
   "outputs": [
    {
     "data": {
      "text/plain": [
       "[100.0, 100.0, 100.0]"
      ]
     },
     "execution_count": 73,
     "metadata": {},
     "output_type": "execute_result"
    }
   ],
   "source": [
    "#verify the values \n",
    "Students[Students_list[-1]][\"tests\"]"
   ]
  },
  {
   "cell_type": "code",
   "execution_count": 74,
   "id": "53bb776d",
   "metadata": {},
   "outputs": [
    {
     "data": {
      "text/plain": [
       "100.0"
      ]
     },
     "execution_count": 74,
     "metadata": {},
     "output_type": "execute_result"
    }
   ],
   "source": [
    "#as they all are 100, we can just 'pop' one\n",
    "Students[Students_list[-1]][\"tests\"].pop()"
   ]
  },
  {
   "cell_type": "code",
   "execution_count": 76,
   "id": "11047487",
   "metadata": {},
   "outputs": [
    {
     "data": {
      "text/plain": [
       "{'name': 'Juan',\n",
       " 'homework': [96.0, 95.0, 95.0, 99.0],\n",
       " 'quizzes': [100.0, 100.0, 100.0],\n",
       " 'tests': [100.0, 100.0]}"
      ]
     },
     "execution_count": 76,
     "metadata": {},
     "output_type": "execute_result"
    }
   ],
   "source": [
    "#verify your work\n",
    "Students[Students_list[-1]]"
   ]
  },
  {
   "cell_type": "code",
   "execution_count": 87,
   "id": "213050cf",
   "metadata": {},
   "outputs": [
    {
     "data": {
      "text/plain": [
       "([88.5,\n",
       "  97.5,\n",
       "  46.0,\n",
       "  32.333333333333336,\n",
       "  97.25,\n",
       "  96.66666666666667,\n",
       "  96.25,\n",
       "  96.25],\n",
       " [32.333333333333336,\n",
       "  46.0,\n",
       "  88.5,\n",
       "  96.25,\n",
       "  96.25,\n",
       "  96.66666666666667,\n",
       "  97.25,\n",
       "  97.5])"
      ]
     },
     "execution_count": 87,
     "metadata": {},
     "output_type": "execute_result"
    }
   ],
   "source": [
    "# 7) identify the students with the lowest and highets homework average \n",
    "average_homework= [sum(Students[Students_list[0]]['homework'])/len(Students[Students_list[0]]['homework']),\n",
    "   sum(Students[Students_list[1]]['homework'])/len(Students[Students_list[1]]['homework']),\n",
    "   sum(Students[Students_list[2]]['homework'])/len(Students[Students_list[2]]['homework']),\n",
    "   sum(Students[Students_list[3]]['homework'])/len(Students[Students_list[3]]['homework']),\n",
    "   sum(Students[Students_list[4]]['homework'])/len(Students[Students_list[4]]['homework']),\n",
    "   sum(Students[Students_list[5]]['homework'])/len(Students[Students_list[5]]['homework']),\n",
    "   sum(Students[Students_list[6]]['homework'])/len(Students[Students_list[6]]['homework']),\n",
    "   sum(Students[Students_list[7]]['homework'])/len(Students[Students_list[7]]['homework'])]\n",
    "\n",
    "#create a copy of the list and sort the copy. You need a copy so that you can access the original indexes\n",
    "sorted_list = average_homework.copy()\n",
    "sorted_list.sort()\n",
    "\n",
    "average_homework, sorted_list"
   ]
  },
  {
   "cell_type": "code",
   "execution_count": 89,
   "id": "33e86350",
   "metadata": {},
   "outputs": [
    {
     "name": "stdout",
     "output_type": "stream",
     "text": [
      "The students with the worst homeworks average is Mike, average = 32.333333333333336 \n",
      "The students with the worst homeworks average is Alice, average = 97.5  \n"
     ]
    }
   ],
   "source": [
    "#find the index (in the original list) of the highest and lowest values\n",
    "index_lowest = average_homework.index(sorted_list[0])\n",
    "index_highest = average_homework.index(sorted_list[-1])\n",
    "\n",
    "#print\n",
    "print(f'The students with the worst homeworks average is {Students[Students_list[index_lowest]][\"name\"]}, average = {average_homework[index_lowest]} ')\n",
    "print(f'The students with the worst homeworks average is {Students[Students_list[index_highest]][\"name\"]}, average = {average_homework[index_highest]}  ')"
   ]
  },
  {
   "cell_type": "code",
   "execution_count": null,
   "id": "0a14657d",
   "metadata": {},
   "outputs": [],
   "source": []
  }
 ],
 "metadata": {
  "kernelspec": {
   "display_name": "Python 3",
   "language": "python",
   "name": "python3"
  },
  "language_info": {
   "codemirror_mode": {
    "name": "ipython",
    "version": 3
   },
   "file_extension": ".py",
   "mimetype": "text/x-python",
   "name": "python",
   "nbconvert_exporter": "python",
   "pygments_lexer": "ipython3",
   "version": "3.8.3"
  }
 },
 "nbformat": 4,
 "nbformat_minor": 5
}
