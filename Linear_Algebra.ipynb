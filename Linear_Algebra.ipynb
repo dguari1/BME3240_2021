{
 "cells": [
  {
   "cell_type": "markdown",
   "id": "c76223ce",
   "metadata": {},
   "source": [
    "## Linear Algebra\n",
    "\n",
    "Linear algebra refers to the study of linear relationships. In this class, we will cover some basic concepts of linear algebra that are needed to understand some more advanced and *practical* concepts and definitions. If you are interested in the concepts related to linear algebra and application, there is an excellent online series that covers these topics in detail \n",
    "\n",
    "https://github.com/fastai/numerical-linear-algebra\n",
    "\n",
    "\n",
    "Linear algebra is a fundamental component of machine learning, so if you are interested in using machine learning in the future go and check that class. \n"
   ]
  },
  {
   "cell_type": "markdown",
   "id": "25539969",
   "metadata": {},
   "source": [
    "### Vectors\n",
    "\n",
    "A vector is a collection of numbers. Vectors can be **row vectors** or **column vectors** depending on their orientation. In general, you can assume that a vector is a **column vector** unless otherwise stated. \n"
   ]
  },
  {
   "cell_type": "code",
   "execution_count": 1,
   "id": "44048487",
   "metadata": {},
   "outputs": [
    {
     "name": "stdout",
     "output_type": "stream",
     "text": [
      "(1, 5)\n",
      "(4, 1)\n"
     ]
    }
   ],
   "source": [
    "import numpy as np\n",
    "vector_row = np.array([[1, -5, 3, 2, 4]])\n",
    "vector_column = np.array([[1], \n",
    "                          [2], \n",
    "                          [3], \n",
    "                          [4]])\n",
    "print(vector_row.shape)\n",
    "print(vector_column.shape)"
   ]
  },
  {
   "cell_type": "markdown",
   "id": "156fa70c",
   "metadata": {},
   "source": [
    "The transpose ($T$) of a vector is an operation that transform a column vector into a row vector and a row vector into a column vector. If $v$ is a vector, then $v^{T}$ is the transpose."
   ]
  },
  {
   "cell_type": "code",
   "execution_count": 3,
   "id": "aea1b2e8",
   "metadata": {},
   "outputs": [
    {
     "data": {
      "text/plain": [
       "(array([[ 1, -5,  3,  2,  4]]),\n",
       " array([[ 1],\n",
       "        [-5],\n",
       "        [ 3],\n",
       "        [ 2],\n",
       "        [ 4]]))"
      ]
     },
     "execution_count": 3,
     "metadata": {},
     "output_type": "execute_result"
    }
   ],
   "source": [
    "vector_row, vector_row.T"
   ]
  },
  {
   "cell_type": "markdown",
   "id": "127ff6ba",
   "metadata": {},
   "source": [
    "The norm of a vector is a measure of its lenght. There are many ways to measure lenght and you can use different definitions depending on the application. The most common norm is the $L_2$ norm, if $v$ is a vector, then the $L_2$ norm ($\\Vert v \\Vert_{2}$) is \n",
    "\n",
    "$$\n",
    "\\Vert v \\Vert_{2} = \\sqrt{\\sum_i v_i^2}\n",
    "$$\n",
    "\n",
    "This is also known as the Euclidian norm. \n",
    "\n",
    "Others well known norms are the $L_1$ norm (or Manhattan Distance), and the $L_\\infty$ norm (or infinity norm) equal to the maximum absolut value of the vector "
   ]
  },
  {
   "cell_type": "code",
   "execution_count": 5,
   "id": "3ae203a9",
   "metadata": {},
   "outputs": [
    {
     "name": "stdout",
     "output_type": "stream",
     "text": [
      "L_1 is: 15.0\n",
      "L_2 is: 7.4\n",
      "L_inf is: 5.0\n"
     ]
    }
   ],
   "source": [
    "from numpy.linalg import norm\n",
    "new_vector = vector_row.T\n",
    "norm_1 = norm(new_vector, 1)\n",
    "norm_2 = norm(new_vector, 2)\n",
    "norm_inf = norm(new_vector, np.inf)\n",
    "print('L_1 is: %.1f'%norm_1)\n",
    "print('L_2 is: %.1f'%norm_2)\n",
    "print('L_inf is: %.1f'%norm_inf)"
   ]
  },
  {
   "cell_type": "markdown",
   "id": "69be0a5b",
   "metadata": {},
   "source": [
    "The **dot product**  of two vectors is the sum of the product of the respective elements in each vector and is denoted by $\\cdot$. If $v$ and $w$ are vectors, then the dot product is defined as \n",
    "$$\n",
    "d = v \\cdot w= \\sum_{i = 1}^{n} v_iw_i\n",
    "$$\n",
    "\n",
    "alternatively, the dot product can be computed as \n",
    "\n",
    "$$\n",
    "v \\cdot w = \\Vert v \\Vert_{2} \\Vert w \\Vert_{2} \\cos{\\theta}\n",
    "$$\n",
    "\n",
    "where $\\theta$ is the angle between the vectors. In the same way, the angle between two vector can be computed as \n",
    "\n",
    "$$\n",
    "\\theta = cos^{-1}\\left[\\frac{v \\cdot w }{\\Vert v \\Vert_{2} \\Vert w \\Vert_{2}}\\right]\n",
    "$$"
   ]
  },
  {
   "cell_type": "code",
   "execution_count": 17,
   "id": "e7271749",
   "metadata": {},
   "outputs": [
    {
     "data": {
      "text/plain": [
       "array([[8.53773646e-07]])"
      ]
     },
     "execution_count": 17,
     "metadata": {},
     "output_type": "execute_result"
    }
   ],
   "source": [
    "#lets take two vectors that are on the same direction but have different lenghts \n",
    "from numpy import arccos, dot\n",
    "v = np.array([[1,2]])\n",
    "w = np.array([[5,10]])\n",
    "theta = arccos(v.dot(w.T)/(norm(v)*norm(w)))\n",
    "theta*(180/pi) #arcos return gradients, we are convering to degrees"
   ]
  },
  {
   "cell_type": "code",
   "execution_count": 18,
   "id": "1bd993f5",
   "metadata": {},
   "outputs": [
    {
     "data": {
      "text/plain": [
       "array([[179.99999879]])"
      ]
     },
     "execution_count": 18,
     "metadata": {},
     "output_type": "execute_result"
    }
   ],
   "source": [
    "#lets take two vectors that are on opposite directions \n",
    "from numpy import arccos, dot, pi\n",
    "v = np.array([[1,2]])\n",
    "w = np.array([[-1,-2]])\n",
    "theta = arccos(v.dot(w.T)/(norm(v)*norm(w)))\n",
    "theta*(180/pi) #arcos return gradients, we are convering to degrees "
   ]
  },
  {
   "cell_type": "code",
   "execution_count": 23,
   "id": "37cbec77",
   "metadata": {},
   "outputs": [
    {
     "data": {
      "text/plain": [
       "array([[90.]])"
      ]
     },
     "execution_count": 23,
     "metadata": {},
     "output_type": "execute_result"
    }
   ],
   "source": [
    "#lets take two vectors that are on orthogonal to eachother \n",
    "from numpy import arccos, dot, pi\n",
    "v = np.array([[1,1]])\n",
    "w = np.array([[-1,1]])\n",
    "theta = arccos(v.dot(w.T)/(norm(v)*norm(w)))\n",
    "theta*(180/pi) #arcos return gradients, we are convering to degrees "
   ]
  },
  {
   "attachments": {
    "098c028a-6ce4-4452-b428-8b2421a382ff.png": {
     "image/png": "[encoded data removed]"
    }
   },
   "cell_type": "markdown",
   "id": "d0e7c113",
   "metadata": {},
   "source": [
    "The **cross product** between two vectors, $v$ and $w$, is written $v\\times w$. It is defined by \n",
    "\n",
    "$$\n",
    "v \\times w = \\Vert v \\Vert_{2}\\Vert w \\Vert_{2}\\sin{(\\theta)} \n",
    "$$\n",
    "\n",
    "where $θ$ is the angle between the $v$ and $w$.\n",
    "\n",
    "The geometric interpretation of the cross product is a vector perpendicular to both $v$ and $w$ with length (as measured by $L_2$) equal to the area enclosed by the parallelogram created by the two vectors.\n",
    "\n",
    "![image.png](attachment:098c028a-6ce4-4452-b428-8b2421a382ff.png)"
   ]
  },
  {
   "cell_type": "code",
   "execution_count": 24,
   "id": "2f103505",
   "metadata": {},
   "outputs": [
    {
     "name": "stdout",
     "output_type": "stream",
     "text": [
      "[[ 0  0 -6]]\n"
     ]
    }
   ],
   "source": [
    "v = np.array([[0, 2, 0]])\n",
    "w = np.array([[3, 0, 0]])\n",
    "cross = np.cross(v, w)\n",
    "print(cross)"
   ]
  },
  {
   "cell_type": "code",
   "execution_count": 26,
   "id": "5a22c4d6",
   "metadata": {},
   "outputs": [
    {
     "data": {
      "text/plain": [
       "array([[90.]])"
      ]
     },
     "execution_count": 26,
     "metadata": {},
     "output_type": "execute_result"
    }
   ],
   "source": [
    "arccos(v.dot(cross.T)/(norm(v)*norm(cross)))*(180/pi)"
   ]
  },
  {
   "cell_type": "code",
   "execution_count": 27,
   "id": "528180e9",
   "metadata": {},
   "outputs": [
    {
     "data": {
      "text/plain": [
       "array([[90.]])"
      ]
     },
     "execution_count": 27,
     "metadata": {},
     "output_type": "execute_result"
    }
   ],
   "source": [
    "arccos(w.dot(cross.T)/(norm(w)*norm(cross)))*(180/pi)"
   ]
  },
  {
   "cell_type": "markdown",
   "id": "cf3d0d10",
   "metadata": {},
   "source": [
    "### Matrices \n",
    "\n",
    "An $n \\times m $ matrix is a rectangular table of numbers consisting of $m$ rows and $n$ columns.\n",
    "\n",
    "The norm of a matrix can be consider as a kind of vector norm by alingming the $n * m$ elements of the matrix into a single vector\n",
    "$$\n",
    "\\Vert M \\Vert_{p} = \\sqrt[p]{(\\sum_i^m \\sum_j^n |a_{ij}|^p)}\n",
    "$$\n",
    "\n",
    "where $p$ defines the norm order ($p=0, 1, 2,...$)\n",
    "\n",
    "\n",
    "**Matrix multiplication** between two matrices, $P$ and $Q$, is defined when $P$ is an $m \\timed p$ matrix and $Q$ is a $p \\times n$ matrix. The result of $M=PQ$ is a matrix $M$ that is $m \\times n$. The dimension with size $p$ is called the inner matrix dimension, and the inner matrix dimensions must match (i.e., the number of columns in $P$ and the number of rows in $Q$ must be the same) for matrix multiplication. The dimensions $m$ and $n$ are called the outer matrix dimensions. Formally,  $M=PQ$ is defined as\n",
    "$$\n",
    "M_{ij} = \\sum_{k=1}^p P_{ik}Q_{kj}\n",
    "$$\n"
   ]
  },
  {
   "cell_type": "code",
   "execution_count": 32,
   "id": "bbb3ea5b",
   "metadata": {},
   "outputs": [
    {
     "name": "stdout",
     "output_type": "stream",
     "text": [
      "[[1 7]\n",
      " [2 3]\n",
      " [5 0]]\n",
      "The dimensions of P are: (3, 2)\n",
      "[[2 6 3 1]\n",
      " [1 2 3 4]] (2, 4)\n",
      "The dimensions of Q are: (2, 4)\n",
      "[[ 9 20 24 29]\n",
      " [ 7 18 15 14]\n",
      " [10 30 15  5]]\n",
      "The dimensions of PxQ are: (3, 4)\n"
     ]
    }
   ],
   "source": [
    "P = np.array([[1, 7], [2, 3], [5, 0]])\n",
    "Q = np.array([[2, 6, 3, 1], [1, 2, 3, 4]])\n",
    "print(P)\n",
    "print(f'The dimensions of P are: {P.shape}')\n",
    "print(Q, Q.shape)\n",
    "print(f'The dimensions of Q are: {Q.shape}')\n",
    "print(np.dot(P, Q))\n",
    "print(f'The dimensions of PxQ are: {np.dot(P, Q).shape}')"
   ]
  },
  {
   "cell_type": "code",
   "execution_count": null,
   "id": "bc8bc9fd",
   "metadata": {},
   "outputs": [],
   "source": [
    "#what will happend here? \n",
    "np.dot(P, Q)"
   ]
  },
  {
   "cell_type": "markdown",
   "id": "797ad9f0",
   "metadata": {},
   "source": [
    "The **determinant** is an important property of square matrices (same number of rows and columns). The determinant is denoted by $\\det(M)$ or $|M|$.\n",
    "\n",
    "In the case of $2 \\times 2$ matrices, the determinant is \n",
    "$$\n",
    "\\begin{split}\n",
    "|M| = \\begin{bmatrix}\n",
    "a & b \\\\\n",
    "c & d\\\\\n",
    "\\end{bmatrix} = ad - bc\\end{split}\n",
    "$$\n",
    "\n",
    "\n",
    "In the case of $3 \\times 3$ matrices, the determinant is \n",
    "$$\n",
    "\\begin{split}\n",
    "\\begin{eqnarray*}\n",
    "|M| = \\begin{bmatrix}\n",
    "a & b & c \\\\\n",
    "d & e & f \\\\\n",
    "g & h & i \\\\\n",
    "\\end{bmatrix} & = & a\\begin{bmatrix}\n",
    "\\Box &\\Box  &\\Box  \\\\\n",
    "\\Box & e & f \\\\\n",
    "\\Box & h & i \\\\\n",
    "\\end{bmatrix} - b\\begin{bmatrix}\n",
    "\\Box &\\Box  &\\Box  \\\\\n",
    "d & \\Box & f \\\\\n",
    "g & \\Box & i \\\\\n",
    "\\end{bmatrix}+c\\begin{bmatrix}\n",
    "\\Box &\\Box  &\\Box  \\\\\n",
    "d & e & \\Box \\\\\n",
    "g & h & \\Box \\\\\n",
    "\\end{bmatrix} \\\\\n",
    "&&\\\\\n",
    "& = & a\\begin{bmatrix}\n",
    "e & f \\\\\n",
    "h & i \\\\\n",
    "\\end{bmatrix} - b\\begin{bmatrix}\n",
    "d & f \\\\\n",
    "g & i \\\\\n",
    "\\end{bmatrix}+c\\begin{bmatrix}\n",
    "d & e \\\\\n",
    "g & h \\\\\n",
    "\\end{bmatrix} \\\\ \n",
    "&&\\\\\n",
    "& = & aei + bfg + cdh - ceg - bdi - afh\n",
    "\\end{eqnarray*}\\end{split}\n",
    "$$\n",
    "\n",
    "\n",
    "Computing the determinant or larger matrices is cumbersome. However, the process can be easily automated and always reduced to computing the determinant of $2 \\time 2$ matrices. Numpy includes an efficient method to compute the determinant of a matrix"
   ]
  },
  {
   "cell_type": "code",
   "execution_count": 39,
   "id": "d7f84569",
   "metadata": {},
   "outputs": [
    {
     "name": "stdout",
     "output_type": "stream",
     "text": [
      "M: [[0 2 1 3]\n",
      " [3 2 8 1]\n",
      " [1 0 0 3]\n",
      " [0 3 2 1]]\n",
      "Determinant: -38.00\n"
     ]
    }
   ],
   "source": [
    "from numpy.linalg import det\n",
    "\n",
    "M = np.array([[0,2,1,3], \n",
    "             [3,2,8,1], \n",
    "             [1,0,0,3],\n",
    "             [0,3,2,1]])\n",
    "print(f'M: {M}')\n",
    "\n",
    "print(f'Determinant: {det(M):0.2f}') #note that the :0.2f limits the number of decimals printed!\n"
   ]
  },
  {
   "cell_type": "markdown",
   "id": "6a26cea2",
   "metadata": {},
   "source": [
    "The inverse of a square matrix $M$ is a matrix of the same size, $N$, such that $M \\bullet N=I$, Where $I$ is a matrix with only ones in its diagonal (unity matrix). The inverse of a matrix $M$ is denoted as $M^{-1}$. For a $2 \\times 2$ matrix, the inverse is defined as \n",
    "\n",
    "$$\n",
    "\\begin{split}\n",
    "M^{-1} = \\begin{bmatrix}\n",
    "a & b \\\\\n",
    "c & d\\\\\n",
    "\\end{bmatrix}^{-1} = \\frac{1}{|M|}\\begin{bmatrix}\n",
    "d & -b \\\\\n",
    "-c & a\\\\\n",
    "\\end{bmatrix}\\end{split}\n",
    "$$\n",
    "\n",
    "calculating the inverse of a matrix is a complex process; however, it is an important step in many calculations and several *easier* approaches have been developed.\n",
    "\n",
    "if the determinant of a matrix is zero, then the matrix doesn't have an inverse. "
   ]
  },
  {
   "cell_type": "code",
   "execution_count": 48,
   "id": "26309117",
   "metadata": {},
   "outputs": [
    {
     "name": "stdout",
     "output_type": "stream",
     "text": [
      "M: [[0 2 1 3]\n",
      " [3 2 8 1]\n",
      " [1 0 0 3]\n",
      " [0 3 2 1]]\n",
      "Inverse: [[-1.57894737 -0.07894737  1.23684211  1.10526316]\n",
      " [-0.63157895 -0.13157895  0.39473684  0.84210526]\n",
      " [ 0.68421053  0.18421053 -0.55263158 -0.57894737]\n",
      " [ 0.52631579  0.02631579 -0.07894737 -0.36842105]]\n",
      "M x inv(M) = [[ 1.00000000e+00 -3.46944695e-18  5.55111512e-17  1.11022302e-16]\n",
      " [ 0.00000000e+00  1.00000000e+00  4.99600361e-16 -1.11022302e-16]\n",
      " [ 2.22044605e-16  5.20417043e-17  1.00000000e+00 -3.33066907e-16]\n",
      " [ 0.00000000e+00  1.73472348e-17  5.55111512e-17  1.00000000e+00]]\n"
     ]
    }
   ],
   "source": [
    "from numpy.linalg import inv\n",
    "\n",
    "M = np.array([[0,2,1,3], \n",
    "             [3,2,8,1], \n",
    "             [1,0,0,3],\n",
    "             [0,3,2,1]])\n",
    "print(f'M: {M}')\n",
    "\n",
    "print(f'Inverse: {inv(M)}') #note that the :0.2f limits the number of decimals printed!\n",
    "\n",
    "print(f'M x inv(M) = {np.dot(M,inv(M))}')\n"
   ]
  },
  {
   "cell_type": "markdown",
   "id": "308407c6",
   "metadata": {},
   "source": [
    "A matrix that is close to being singular (i.e., the determinant is close to 0) is called **ill-conditioned**. Although ill-conditioned matrices have inverses, they are problematic numerically in the same way that dividing a number by a very, very small number is problematic. \n",
    "The **condition number** is a measure of how ill-conditioned a matrix is, and it can be computed using Numpy’s function cond from linalg. The higher the condition number, the closer the matrix is to being singular.\n",
    "\n",
    "The **rank** of an $m \\times n$ matrix $A$ is the number of linearly independent columns or rows of $A$ (that is, you cannot write a row or column as a linear combination of other rows or columns), and is denoted by **rank(A)**. It can be shown that the number of linearly independent rows is always equal to the number of linearly independent columns for any matrix. A matrix is called full rank. if **rank (A)=min(m,n)**. The matrix, $A$, is also full rank if all of its columns are linearly independent.\n"
   ]
  },
  {
   "cell_type": "code",
   "execution_count": 50,
   "id": "a51b8048",
   "metadata": {},
   "outputs": [
    {
     "name": "stdout",
     "output_type": "stream",
     "text": [
      "Condition number: 4.048917339522305\n",
      "Rank: 3\n"
     ]
    }
   ],
   "source": [
    "from numpy.linalg import cond, matrix_rank\n",
    "\n",
    "A = np.array([[1,1,0],\n",
    "              [0,1,0],\n",
    "              [1,0,1]])\n",
    "\n",
    "print(f'Condition number: {cond(A)}')\n",
    "print(f'Rank: {matrix_rank(A)}')"
   ]
  },
  {
   "cell_type": "markdown",
   "id": "29b9f6e6",
   "metadata": {},
   "source": [
    "if you append a new columns (or row) to a matrix, the rank will increase if the new columns add new information (that is, the new column cannot be explained by a linear combinantion of existing columns)"
   ]
  },
  {
   "cell_type": "code",
   "execution_count": 55,
   "id": "b247361e",
   "metadata": {},
   "outputs": [
    {
     "name": "stdout",
     "output_type": "stream",
     "text": [
      "Augmented matrix: \n",
      " [[1 1 0 1]\n",
      " [0 1 0 2]\n",
      " [1 0 1 1]]\n",
      "Rank of augmented matrix: 3 \n"
     ]
    }
   ],
   "source": [
    "y = np.array([[1], [2], [1]])\n",
    "A_y = np.concatenate((A, y), axis = 1)\n",
    "print(f'Augmented matrix: \\n {A_y}')\n",
    "print(f'Rank of augmented matrix: {matrix_rank(A_y)} ')"
   ]
  },
  {
   "cell_type": "code",
   "execution_count": null,
   "id": "0dc4c44a",
   "metadata": {},
   "outputs": [],
   "source": []
  }
 ],
 "metadata": {
  "kernelspec": {
   "display_name": "Python 3",
   "language": "python",
   "name": "python3"
  },
  "language_info": {
   "codemirror_mode": {
    "name": "ipython",
    "version": 3
   },
   "file_extension": ".py",
   "mimetype": "text/x-python",
   "name": "python",
   "nbconvert_exporter": "python",
   "pygments_lexer": "ipython3",
   "version": "3.8.3"
  }
 },
 "nbformat": 4,
 "nbformat_minor": 5
}
